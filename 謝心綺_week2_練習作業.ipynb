{
  "nbformat": 4,
  "nbformat_minor": 0,
  "metadata": {
    "colab": {
      "name": "謝心綺-week2-練習作業.ipynb",
      "provenance": [],
      "authorship_tag": "ABX9TyNkouWVbbnUDs0ZgSUD/2og",
      "include_colab_link": true
    },
    "kernelspec": {
      "name": "python3",
      "display_name": "Python 3"
    }
  },
  "cells": [
    {
      "cell_type": "markdown",
      "metadata": {
        "id": "view-in-github",
        "colab_type": "text"
      },
      "source": [
        "<a href=\"https://colab.research.google.com/github/siesinci/Computational-Thinking-and-Program-Design/blob/main/%E8%AC%9D%E5%BF%83%E7%B6%BA_week2_%E7%B7%B4%E7%BF%92%E4%BD%9C%E6%A5%AD.ipynb\" target=\"_parent\"><img src=\"https://colab.research.google.com/assets/colab-badge.svg\" alt=\"Open In Colab\"/></a>"
      ]
    },
    {
      "cell_type": "code",
      "metadata": {
        "colab": {
          "base_uri": "https://localhost:8080/"
        },
        "id": "k1totM0ITAlc",
        "outputId": "28ee77a3-83ce-44a1-a90a-71d35ccea1a6"
      },
      "source": [
        "print(1+1)"
      ],
      "execution_count": 1,
      "outputs": [
        {
          "output_type": "stream",
          "text": [
            "2\n"
          ],
          "name": "stdout"
        }
      ]
    },
    {
      "cell_type": "code",
      "metadata": {
        "colab": {
          "base_uri": "https://localhost:8080/"
        },
        "id": "lZ3BgcqRT3RX",
        "outputId": "6ef2f359-42d9-4ad6-98b9-e8d81d6c1d1a"
      },
      "source": [
        "print(\"Are you happy?\")"
      ],
      "execution_count": 3,
      "outputs": [
        {
          "output_type": "stream",
          "text": [
            "Are you happy?\n"
          ],
          "name": "stdout"
        }
      ]
    }
  ]
}