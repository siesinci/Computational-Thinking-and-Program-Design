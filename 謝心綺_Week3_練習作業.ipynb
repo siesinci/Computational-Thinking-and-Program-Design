{
  "nbformat": 4,
  "nbformat_minor": 0,
  "metadata": {
    "colab": {
      "name": " 謝心綺-Week3-練習作業.ipynb",
      "provenance": [],
      "authorship_tag": "ABX9TyP+qql0HjJJieHhQEyBBWoG",
      "include_colab_link": true
    },
    "kernelspec": {
      "name": "python3",
      "display_name": "Python 3"
    }
  },
  "cells": [
    {
      "cell_type": "markdown",
      "metadata": {
        "id": "view-in-github",
        "colab_type": "text"
      },
      "source": [
        "<a href=\"https://colab.research.google.com/github/siesinci/Computational-Thinking-and-Program-Design/blob/main/%E8%AC%9D%E5%BF%83%E7%B6%BA_Week3_%E7%B7%B4%E7%BF%92%E4%BD%9C%E6%A5%AD.ipynb\" target=\"_parent\"><img src=\"https://colab.research.google.com/assets/colab-badge.svg\" alt=\"Open In Colab\"/></a>"
      ]
    },
    {
      "cell_type": "markdown",
      "metadata": {
        "id": "5kJ13wVyNaf5"
      },
      "source": [
        "#隨堂練習"
      ]
    },
    {
      "cell_type": "markdown",
      "metadata": {
        "id": "Kdz8_ZNCaKzi"
      },
      "source": [
        "1.電腦只聽得懂0、1\r\n",
        "\r\n",
        "2.必須翻譯成電腦聽得懂的文字(程式語言)\r\n",
        "\r\n",
        "3.用電腦解決問題\r\n",
        "\r\n",
        "\r\n",
        "```\r\n",
        "# 此內容會顯示為程式碼\r\n",
        "```\r\n",
        "\r\n"
      ]
    },
    {
      "cell_type": "code",
      "metadata": {
        "id": "OYEXXgDINdKv"
      },
      "source": [
        "print(1+1)\r\n"
      ],
      "execution_count": null,
      "outputs": []
    },
    {
      "cell_type": "markdown",
      "metadata": {
        "id": "p5TQxSCuOPAJ"
      },
      "source": [
        "課後練習"
      ]
    },
    {
      "cell_type": "markdown",
      "metadata": {
        "id": "hC6-o0v4OfMI"
      },
      "source": [
        "**(2)課後練習則為從一則新聞報導，提出你對新聞系（OO系）學生為什麼要學「運算思維與程式設計」的見解。**\r\n",
        "\r\n",
        "新聞連結:https://www.storm.mg/article/3117067?page=1\r\n",
        "\r\n",
        "我認為因為人工智能及大數據浪潮的當頭，電腦科學幾乎成為了顯學，不論甚麼系都勢必會有明顯的趨勢改變，公廣系是個結合許多不同學科去研究閱聽人，包含廣告、公關等行銷模式，科技時代下，許多行銷運作模式也趨近科技化，例如用vr與人互動、物聯網的串聯等，因此我認為在這樣的環境下，我們不需要非常會寫程式，但必須知道大概的運作模式，以及如何運用電腦解決問題，有利於未來與工程師的溝通及了解。"
      ]
    }
  ]
}