{
  "nbformat": 4,
  "nbformat_minor": 0,
  "metadata": {
    "kernelspec": {
      "display_name": "Python 3",
      "language": "python",
      "name": "python3"
    },
    "language_info": {
      "codemirror_mode": {
        "name": "ipython",
        "version": 3
      },
      "file_extension": ".py",
      "mimetype": "text/x-python",
      "name": "python",
      "nbconvert_exporter": "python",
      "pygments_lexer": "ipython3",
      "version": "3.8.5"
    },
    "colab": {
      "name": "「謝心綺-Week10-作業.ipynb的副本」的副本",
      "provenance": [],
      "include_colab_link": true
    }
  },
  "cells": [
    {
      "cell_type": "markdown",
      "metadata": {
        "id": "view-in-github",
        "colab_type": "text"
      },
      "source": [
        "<a href=\"https://colab.research.google.com/github/siesinci/Computational-Thinking-and-Program-Design/blob/main/%E3%80%8C%E8%AC%9D%E5%BF%83%E7%B6%BA_Week10_%E4%BD%9C%E6%A5%AD_ipynb%E7%9A%84%E5%89%AF%E6%9C%AC%E3%80%8D%E7%9A%84%E5%89%AF%E6%9C%AC.ipynb\" target=\"_parent\"><img src=\"https://colab.research.google.com/assets/colab-badge.svg\" alt=\"Open In Colab\"/></a>"
      ]
    },
    {
      "cell_type": "markdown",
      "metadata": {
        "id": "ObCObJCnhi88"
      },
      "source": [
        "# 基本程式設計(應用篇)"
      ]
    },
    {
      "cell_type": "markdown",
      "metadata": {
        "id": "JgVWDrmYhi9C"
      },
      "source": [
        "### 4-2 運算思維四個基石"
      ]
    },
    {
      "cell_type": "markdown",
      "metadata": {
        "id": "FKGjlLcUhi9C"
      },
      "source": [
        "#### 4-2-4  問題拆解 - 打造你的聊天機器人"
      ]
    },
    {
      "cell_type": "markdown",
      "metadata": {
        "id": "RH62xl3rhi9D"
      },
      "source": [
        "「哈囉，大家好。我叫Zyxo64，是一個聊天機器人。\n",
        "\n",
        "在嗜好與興趣方面，我很喜歡美食，也喜歡養動物。\n",
        "\n",
        "很高興有機會來到世新大學，請大家多多指教。\n",
        "\n",
        "嗨！妳好，請問大名？：Francis。\n",
        "\n",
        "Francis，很高興認識你。"
      ]
    },
    {
      "cell_type": "code",
      "metadata": {
        "id": "bkDmWRVKhi9D"
      },
      "source": [
        "# 1.聊天機器人自我介紹\n",
        "\n",
        "\n",
        "# 2. 打招呼，取得對方名字\n"
      ],
      "execution_count": null,
      "outputs": []
    },
    {
      "cell_type": "markdown",
      "metadata": {
        "id": "OHr3_NB8hi9E"
      },
      "source": [
        "抱歉，請問一下今年是西元2021年，那是民國幾年呢？：*110*。\n",
        "\n",
        "對！沒錯，謝謝妳！\n",
        "\n",
        "**Francis**，猜猜看我今年幾歲？ ：**18**。\n",
        "\n",
        "哇！你好聰明，我今年的確*18*。\n",
        "\n",
        "再82年我就100歲了。\n",
        "\n",
        "那時候是西元 2103年，也就是民國192年囉！"
      ]
    },
    {
      "cell_type": "code",
      "metadata": {
        "id": "ZPOJxMumhi9E"
      },
      "source": [
        "# 3. 數學運算\n",
        "## 3-1 從使用者取得今年年份\n",
        "\n",
        "\n",
        "## 3-2 請使用者猜年齡\n",
        "\n",
        "\n",
        "## 3-3 計算聊天機器人滿100歲的年份\n",
        "\n"
      ],
      "execution_count": null,
      "outputs": []
    },
    {
      "cell_type": "markdown",
      "metadata": {
        "id": "Awy4Xykvhi9E"
      },
      "source": [
        "我喜歡吃巧克力，也喜歡嘗試各種新食物。\n",
        "\n",
        "你呢？你最喜歡的食物是什麼？**:披薩**。\n",
        "\n",
        "我也喜歡 *披薩*。\n",
        "\n",
        "你多久吃一次 *披薩*？**：每天**。\n",
        "\n",
        "真有趣。不知道這樣對健康好不好。"
      ]
    },
    {
      "cell_type": "code",
      "metadata": {
        "id": "e8rBRMTFhi9E"
      },
      "source": [
        "# 4 興趣\n",
        "## 4-1 食物話題\n"
      ],
      "execution_count": null,
      "outputs": []
    },
    {
      "cell_type": "markdown",
      "metadata": {
        "id": "Y8GXnbkchi9F"
      },
      "source": [
        "我最喜歡的動物是長頸鹿。你呢？ **：烏龜**。\n",
        "\n",
        "我不喜歡*烏龜*！\n",
        "\n",
        "不知道 *烏龜* 喜不喜歡吃 *披薩*？"
      ]
    },
    {
      "cell_type": "code",
      "metadata": {
        "id": "7vibNcWfhi9F"
      },
      "source": [
        "# 4 興趣\n",
        "## 4-2 動物話題\n"
      ],
      "execution_count": null,
      "outputs": []
    },
    {
      "cell_type": "markdown",
      "metadata": {
        "id": "R3Q8b67yhi9F"
      },
      "source": [
        "你今天的心情如何？ **：很開心**。\n",
        "\n",
        "可以告訴我你 *開心* 的原因嗎？**因為週末了！** \n",
        "\n",
        "祝你週末愉快！\n",
        "\n",
        "我喜歡跟你聊天，現在有點累了，改天再聊吧！！\n",
        "\n",
        "再見 *Francis*！"
      ]
    },
    {
      "cell_type": "code",
      "metadata": {
        "id": "dAoYnwpWhi9F"
      },
      "source": [
        "# 5. 關於心情的對話\n"
      ],
      "execution_count": null,
      "outputs": []
    },
    {
      "cell_type": "markdown",
      "metadata": {
        "id": "fyLEHRU6hi9G"
      },
      "source": [
        "我喜歡跟你聊天，現在有點累了，改天再聊吧！！\n",
        "\n",
        "再見 *Francis*！"
      ]
    },
    {
      "cell_type": "code",
      "metadata": {
        "id": "e2ESO9X7hi9G"
      },
      "source": [
        "# 6. 道別\n"
      ],
      "execution_count": null,
      "outputs": []
    },
    {
      "cell_type": "markdown",
      "metadata": {
        "id": "HH1owlwLhi9G"
      },
      "source": [
        "## 期末報告"
      ]
    },
    {
      "cell_type": "markdown",
      "metadata": {
        "id": "H5mLp8xjhi9G"
      },
      "source": [
        "### 組長(學號姓名): A108050055謝心綺\n",
        "\n"
      ]
    },
    {
      "cell_type": "markdown",
      "metadata": {
        "id": "N9jeAH2D233g"
      },
      "source": [
        "組員(學號姓名): A108050079王翊慈"
      ]
    },
    {
      "cell_type": "markdown",
      "metadata": {
        "id": "bF-lU4cfhi9G"
      },
      "source": [
        "題目: 世新牙醫掛號與諮詢線上服務"
      ]
    },
    {
      "cell_type": "markdown",
      "metadata": {
        "id": "2hpFD8tThi9H"
      },
      "source": [
        "### 百字腳本\n",
        "\n"
      ]
    },
    {
      "cell_type": "markdown",
      "metadata": {
        "id": "EFt84FjVkJlN"
      },
      "source": [
        "您好，我是世新牙醫的機器小幫手\n",
        "\n",
        "有什麼需要幫忙的嗎?\n",
        "需要的服務項目?\n",
        "\n",
        "洗牙\n",
        "\n",
        "洗牙，好的，沒問題。\n",
        "洗牙費用為100元\n",
        "還有其他項目想一併了解的嗎?\n",
        "\n",
        "牙齒美白是多少呢?\n",
        "\n",
        "牙齒美白費用為600元\n",
        "\n",
        "好我要洗牙和牙齒美白\n",
        "\n",
        "這樣一共是700元\n",
        "請問要幫您預約嗎?\n",
        "\n",
        "好\n",
        "\n",
        "請問大名?\n",
        "李小毛\n",
        "\n",
        "請問出生年月日(西元)?\n",
        "2001.08.03\n",
        "\n",
        "請問身分證字號?\n",
        "F221456982\n",
        "\n",
        "和您確認一下個人資料，李小毛小姐，生日2001.08.03，身份證字號為F221456982\n",
        "請問正確嗎?\n",
        "\n",
        "正確\n",
        "\n",
        "好的，請問想預約何時呢?\n",
        "5/7(五)可以嗎?\n",
        "\n",
        "5/7(五)可以的，請問幾點呢?\n",
        "本診所營業時間為1100-2200\n",
        "\n",
        "下午一點\n",
        "\n",
        "好的!和您確認預約時間為5/7(五)1300\n",
        "服務項目為洗牙與牙齒美白\n",
        "請問正確嗎?\n",
        "\n",
        "正確\n",
        "\n",
        "感謝您的預約，祝您有美好的一天。"
      ]
    },
    {
      "cell_type": "code",
      "metadata": {
        "colab": {
          "base_uri": "https://localhost:8080/"
        },
        "id": "L7oNypCIwJXn",
        "outputId": "e91164dc-b90a-41d6-8eeb-8cb9c2a1969d"
      },
      "source": [
        "print(\"你好，我是世新牙醫的機器小幫手\")#聊天機器人自我介紹\n",
        "print(\"有什麼可以幫助你的嗎?\")\n",
        "service1=input(\"需要的服務項目?:\")#顧客輸入服務項目\n",
        "print(f\"{service1}，好的，沒問題。{service1}費用為100元，還有其他項目想了解的嗎?\") #對應金額\n",
        "service2=input(\"想要詢問的服務項目?:\")\n",
        "print(f\"{service2},好的，沒問題。{service2}的費用為600元\")\n",
        "sum=service1+service2\n",
        "print(f\"這樣一共是700元\") #加法"
      ],
      "execution_count": null,
      "outputs": [
        {
          "output_type": "stream",
          "text": [
            "你好，我是世新牙醫的機器小幫手\n",
            "有什麼可以幫助你的嗎?\n",
            "需要的服務項目?:1\n",
            "1，好的，沒問題。1費用為100元，還有其他項目想了解的嗎?\n",
            "想要詢問的服務項目?:\n",
            ",好的，沒問題。的費用為600元\n",
            "這樣一共是700元\n"
          ],
          "name": "stdout"
        }
      ]
    }
  ]
}