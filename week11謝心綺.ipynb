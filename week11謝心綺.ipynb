{
  "nbformat": 4,
  "nbformat_minor": 0,
  "metadata": {
    "colab": {
      "name": "week11謝心綺.ipynb",
      "provenance": [],
      "authorship_tag": "ABX9TyP5dq0YXN/3cM9Ecyv5bbaB",
      "include_colab_link": true
    },
    "kernelspec": {
      "name": "python3",
      "display_name": "Python 3"
    },
    "language_info": {
      "name": "python"
    }
  },
  "cells": [
    {
      "cell_type": "markdown",
      "metadata": {
        "id": "view-in-github",
        "colab_type": "text"
      },
      "source": [
        "<a href=\"https://colab.research.google.com/github/siesinci/Computational-Thinking-and-Program-Design/blob/main/week11%E8%AC%9D%E5%BF%83%E7%B6%BA.ipynb\" target=\"_parent\"><img src=\"https://colab.research.google.com/assets/colab-badge.svg\" alt=\"Open In Colab\"/></a>"
      ]
    },
    {
      "cell_type": "code",
      "metadata": {
        "colab": {
          "base_uri": "https://localhost:8080/"
        },
        "id": "A2jF46nB0x-6",
        "outputId": "2fc84cf8-d568-4565-bf16-2058b50c4e3d"
      },
      "source": [
        "#買兩千打9折\n",
        "cost=int(input(\"請輸入購買金額?\"))\n",
        "if cost>=2000:\n",
        "    print(cost*0.9)\n",
        "else:\n",
        "    print(cost)"
      ],
      "execution_count": 1,
      "outputs": [
        {
          "output_type": "stream",
          "text": [
            "請輸入購買金額?2300\n",
            "2070.0\n"
          ],
          "name": "stdout"
        }
      ]
    },
    {
      "cell_type": "code",
      "metadata": {
        "colab": {
          "base_uri": "https://localhost:8080/"
        },
        "id": "Yi17tNJz1r3y",
        "outputId": "7d74ee6f-faa6-4ab7-80a7-257c40239e17"
      },
      "source": [
        "a = int(input('請輸入三角形邊長a長度為?'))\n",
        "b = int(input('請輸入三角形邊長b長度為?'))\n",
        "c = int(input('請輸入三角形邊長c長度為?'))\n",
        "\n",
        "if (a < b + c)and(b < a + c)and( c < a + b):\n",
        "    print('可構成三角形')\n",
        "else:\n",
        "    print('無法構成三角形')"
      ],
      "execution_count": 4,
      "outputs": [
        {
          "output_type": "stream",
          "text": [
            "請輸入三角形邊長a長度為?1\n",
            "請輸入三角形邊長b長度為?5\n",
            "請輸入三角形邊長c長度為?8\n",
            "無法構成三角形\n"
          ],
          "name": "stdout"
        }
      ]
    }
  ]
}