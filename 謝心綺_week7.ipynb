{
  "nbformat": 4,
  "nbformat_minor": 0,
  "metadata": {
    "colab": {
      "name": "謝心綺_week7.ipynb",
      "provenance": [],
      "authorship_tag": "ABX9TyOY+Xb2Oe/ddExetChlaml2",
      "include_colab_link": true
    },
    "kernelspec": {
      "name": "python3",
      "display_name": "Python 3"
    },
    "language_info": {
      "name": "python"
    }
  },
  "cells": [
    {
      "cell_type": "markdown",
      "metadata": {
        "id": "view-in-github",
        "colab_type": "text"
      },
      "source": [
        "<a href=\"https://colab.research.google.com/github/siesinci/Computational-Thinking-and-Program-Design/blob/main/%E8%AC%9D%E5%BF%83%E7%B6%BA_week7.ipynb\" target=\"_parent\"><img src=\"https://colab.research.google.com/assets/colab-badge.svg\" alt=\"Open In Colab\"/></a>"
      ]
    },
    {
      "cell_type": "code",
      "metadata": {
        "colab": {
          "base_uri": "https://localhost:8080/"
        },
        "id": "QM_ha9OsgFoY",
        "outputId": "77f61575-2daa-4467-e883-4cbfe4bcf555"
      },
      "source": [
        "total = 0\n",
        "\n",
        "fruit = \"apple\"\n",
        "number = 2\n",
        "total = total + number\n",
        "# print(\"摘了\",ftuit,\"摘了\",number,\"個，總共摘了\"，total,\"個水果\")\n",
        "print(f\"摘了{fruit}、摘了{number}個，總共摘了{total}個水果\")\n",
        "\n",
        "fruit = \"pear\"\n",
        "number = 1\n",
        "total = total + number\n",
        "# print(\"摘了\",ftuit,\"摘了\",number,\"個，總共摘了\"，total,\"個水果\")\n",
        "print(f\"摘了{fruit}、摘了{number}個，總共摘了{total}個水果\")\n",
        "\n",
        "fruit = \"peach\"\n",
        "number = 3\n",
        "total = total + number\n",
        "# print(\"摘了\",ftuit,\"摘了\",number,\"個，總共摘了\"，total,\"個水果\")\n",
        "print(f\"摘了{fruit}、摘了{number}個，總共摘了{total}個水果\")\n",
        "\n",
        "fruit = \"banana\"\n",
        "number = 6\n",
        "total = total + number\n",
        "# print(\"摘了\",ftuit,\"摘了\",number,\"個，總共摘了\"，total,\"個水果\")\n",
        "print(f\"摘了{fruit}、摘了{number}個，總共摘了{total}個水果\")"
      ],
      "execution_count": 6,
      "outputs": [
        {
          "output_type": "stream",
          "text": [
            "摘了apple、摘了2個，總共摘了2個水果\n",
            "摘了pear、摘了1個，總共摘了3個水果\n",
            "摘了peach、摘了3個，總共摘了6個水果\n",
            "摘了banana、摘了6個，總共摘了12個水果\n"
          ],
          "name": "stdout"
        }
      ]
    },
    {
      "cell_type": "code",
      "metadata": {
        "colab": {
          "base_uri": "https://localhost:8080/"
        },
        "id": "Pr4G4NYaoEoj",
        "outputId": "77696071-4b56-4e58-f84f-457ad969cdf4"
      },
      "source": [
        "weight=eval(input('請問體重?'))\n",
        "print('體重為',weight)"
      ],
      "execution_count": 15,
      "outputs": [
        {
          "output_type": "stream",
          "text": [
            "請問體重?50\n",
            "體重為 50\n"
          ],
          "name": "stdout"
        }
      ]
    },
    {
      "cell_type": "code",
      "metadata": {
        "colab": {
          "base_uri": "https://localhost:8080/"
        },
        "id": "StQ-TWGyni_M",
        "outputId": "be73a1fc-4358-4afb-cfb8-e69793656730"
      },
      "source": [
        "radius=float(input('請輸入半徑?'))\n",
        "PI=3.14159\n",
        "circumference=2*PI*radius\n",
        "area=radius*radius*PI\n",
        "print(f\"圓周常為{circumference},圓面積為{area}\")"
      ],
      "execution_count": 14,
      "outputs": [
        {
          "output_type": "stream",
          "text": [
            "請輸入半徑?4\n",
            "圓周常為25.13272,圓面積為50.26544\n"
          ],
          "name": "stdout"
        }
      ]
    },
    {
      "cell_type": "code",
      "metadata": {
        "colab": {
          "base_uri": "https://localhost:8080/"
        },
        "id": "c6bg0ufJlY3e",
        "outputId": "f90e03e9-4808-4b61-c2f4-6ebab7bd5913"
      },
      "source": [
        "## Input\n",
        "PI = 3.14\n",
        "r1 = input(\"Enter radius 1 :\")\n",
        "r2 = input(\"Enter radius 2 :\")\n",
        "r1 = float(r1)\n",
        "r2 = float(r2)\n",
        "\n",
        "## Process\n",
        "area1 = PI * r1 *r1\n",
        "area2 = PI * r2 *r2\n",
        "area =area1 -area2\n",
        "\n",
        "## Output\n",
        "print(f\"......{area}\")"
      ],
      "execution_count": 13,
      "outputs": [
        {
          "output_type": "stream",
          "text": [
            "Enter radius 1 :8\n",
            "Enter radius 2 :6\n",
            "......87.92000000000002\n"
          ],
          "name": "stdout"
        }
      ]
    },
    {
      "cell_type": "code",
      "metadata": {
        "colab": {
          "base_uri": "https://localhost:8080/"
        },
        "id": "McSoKXLUoJ7T",
        "outputId": "44e63eba-fded-4747-a432-ed340bb65240"
      },
      "source": [
        "f =int(input(\"請輸入幾尺\"))\n",
        "i =int(input(\"請輸入幾吋\"))\n",
        "ans =(f*12+i)*2.54\n",
        "print(\"轉換成\",ans,\"公分\")"
      ],
      "execution_count": 17,
      "outputs": [
        {
          "output_type": "stream",
          "text": [
            "請輸入幾尺5\n",
            "請輸入幾吋8\n",
            "轉換成 172.72 公分\n"
          ],
          "name": "stdout"
        }
      ]
    },
    {
      "cell_type": "code",
      "metadata": {
        "colab": {
          "base_uri": "https://localhost:8080/"
        },
        "id": "kAA38PcqpgsD",
        "outputId": "2401fc0b-5d1f-47ee-b3c7-d39caae663e7"
      },
      "source": [
        "r1=eval(input(\"輸入外圓的直徑:\"))\n",
        "r2=eval(input(\"輸入內圓的直徑:\"))\n",
        "s1=3.14*r1/2*r1/2\n",
        "s2=3.14*r2/2*r1/2\n",
        "s3=s1-s2\n",
        "print(\"外圓面積為\",s1)\n",
        "print(\"內圓面積為\",s2)\n",
        "print(\"圓環面積為\",s3)"
      ],
      "execution_count": 21,
      "outputs": [
        {
          "output_type": "stream",
          "text": [
            "輸入外圓的直徑:20\n",
            "輸入內圓的直徑:10\n",
            "外圓面積為 314.0\n",
            "內圓面積為 157.0\n",
            "圓環面積為 157.0\n"
          ],
          "name": "stdout"
        }
      ]
    }
  ]
}